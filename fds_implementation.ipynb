{
  "nbformat": 4,
  "nbformat_minor": 0,
  "metadata": {
    "colab": {
      "provenance": [],
      "authorship_tag": "ABX9TyPvVuIT3FNpTxP0+bQe+YF0",
      "include_colab_link": true
    },
    "kernelspec": {
      "name": "python3",
      "display_name": "Python 3"
    },
    "language_info": {
      "name": "python"
    }
  },
  "cells": [
    {
      "cell_type": "markdown",
      "metadata": {
        "id": "view-in-github",
        "colab_type": "text"
      },
      "source": [
        "<a href=\"https://colab.research.google.com/github/SanskarGithub07/FDS-Implementation/blob/main/fds_implementation.ipynb\" target=\"_parent\"><img src=\"https://colab.research.google.com/assets/colab-badge.svg\" alt=\"Open In Colab\"/></a>"
      ]
    },
    {
      "cell_type": "markdown",
      "source": [
        "### Data Collection and Cleaning\n",
        "- Collecting data from kaggle and using the PennTreebank dataset for our implementation of the model.\n",
        "- Cleaning the data for better representation and model accuracy"
      ],
      "metadata": {
        "id": "5fnmOY2YjgSN"
      }
    },
    {
      "cell_type": "code",
      "execution_count": 1,
      "metadata": {
        "id": "ZPiP9SddYCYq"
      },
      "outputs": [],
      "source": [
        "import pandas as pd\n",
        "import numpy\n",
        "import collections"
      ]
    },
    {
      "cell_type": "code",
      "source": [
        "def read_words(filename):\n",
        "    with open(filename, \"r\", encoding=\"utf-8\", errors=\"replace\") as f:\n",
        "        return f.read().replace(\"\\n\", \"<eos>\").split()"
      ],
      "metadata": {
        "id": "Lx3ZcLw2aiv6"
      },
      "execution_count": 2,
      "outputs": []
    },
    {
      "cell_type": "code",
      "source": [
        "def build_vocab(filename):\n",
        "    data = read_words(filename)\n",
        "    counter = collections.Counter(data)\n",
        "    count_pairs = sorted(counter.items(), key=lambda x: (-x[1], x[0]))\n",
        "    words, _ = zip(*count_pairs)\n",
        "    word_to_id = {word: i for i, word in enumerate(words)}\n",
        "    return word_to_id"
      ],
      "metadata": {
        "id": "ZyNepDo-iNXO"
      },
      "execution_count": 3,
      "outputs": []
    },
    {
      "cell_type": "code",
      "source": [
        "def file_to_word_ids(filename, word_to_id):\n",
        "    data = read_words(filename)\n",
        "    return [word_to_id[word] for word in data if word in word_to_id]"
      ],
      "metadata": {
        "id": "ZwaU_nR6iP_e"
      },
      "execution_count": 4,
      "outputs": []
    },
    {
      "cell_type": "code",
      "source": [
        "train_path = \"ptb.train.txt\"\n",
        "valid_path = \"ptb.valid.txt\"\n",
        "test_path = \"ptb.test.txt\"\n",
        "train_path, valid_path, test_path"
      ],
      "metadata": {
        "colab": {
          "base_uri": "https://localhost:8080/"
        },
        "id": "K2F3206tiSzj",
        "outputId": "33ef1880-9a40-4b01-b82f-71d61d3efdeb"
      },
      "execution_count": 5,
      "outputs": [
        {
          "output_type": "execute_result",
          "data": {
            "text/plain": [
              "('ptb.train.txt', 'ptb.valid.txt', 'ptb.test.txt')"
            ]
          },
          "metadata": {},
          "execution_count": 5
        }
      ]
    },
    {
      "cell_type": "code",
      "source": [
        "def load_ptb_dataset():\n",
        "\n",
        "    word_to_id = build_vocab(train_path)\n",
        "\n",
        "    train_data = file_to_word_ids(train_path, word_to_id)\n",
        "    valid_data = file_to_word_ids(valid_path, word_to_id)\n",
        "    test_data = file_to_word_ids(test_path, word_to_id)\n",
        "    vocab_size = len(word_to_id)\n",
        "\n",
        "    return train_data, valid_data, test_data, vocab_size, word_to_id\n",
        "\n",
        "train_data, valid_data, test_data, vocab_size, word_to_id = load_ptb_dataset()"
      ],
      "metadata": {
        "id": "K7thhzlYikfq"
      },
      "execution_count": 6,
      "outputs": []
    },
    {
      "cell_type": "code",
      "source": [
        "print(f\"Vocabulary size: {vocab_size}\",f\"Train data size: {len(train_data)}\",\n",
        "f\"Valid data size: {len(valid_data)}\", f\"Test data size: {len(test_data)}\")\n",
        "print(f\"\\n\\nSample word to id mapping: {list(word_to_id.items())[:5]}\")"
      ],
      "metadata": {
        "colab": {
          "base_uri": "https://localhost:8080/"
        },
        "id": "X41oWs3QiqLX",
        "outputId": "828ddd3e-2876-4400-d8b1-9c982bdf7f6e"
      },
      "execution_count": 7,
      "outputs": [
        {
          "output_type": "stream",
          "name": "stdout",
          "text": [
            "Vocabulary size: 10000 Train data size: 929589 Valid data size: 73760 Test data size: 82430\n",
            "\n",
            "\n",
            "Sample word to id mapping: [('the', 0), ('<unk>', 1), ('<eos>', 2), ('N', 3), ('of', 4)]\n"
          ]
        }
      ]
    },
    {
      "cell_type": "code",
      "source": [
        "def id_to_word(id_list, word_to_id=word_to_id):\n",
        "    id_to_word_dict = {v: k for k, v in word_to_id.items()}\n",
        "    return [id_to_word_dict[id_] for id_ in id_list]\n",
        "\n",
        "print(id_to_word(train_data[0:100]))"
      ],
      "metadata": {
        "colab": {
          "base_uri": "https://localhost:8080/"
        },
        "id": "boalwvcqi_bW",
        "outputId": "46ebc2d8-6e7b-4760-c9ae-429439fa9612"
      },
      "execution_count": 8,
      "outputs": [
        {
          "output_type": "stream",
          "name": "stdout",
          "text": [
            "['aer', 'banknote', 'berlitz', 'calloway', 'centrust', 'cluett', 'fromstein', 'gitano', 'guterman', 'hydro-quebec', 'ipo', 'kia', 'memotec', 'mlx', 'nahb', 'punts', 'rake', 'regatta', 'rubens', 'sim', 'snack-food', 'ssangyong', 'swapo', 'wachter', '<eos>', 'pierre', '<unk>', 'N', 'years', 'old', 'will', 'join', 'the', 'board', 'as', 'a', 'nonexecutive', 'director', 'nov.', 'N', '<eos>', 'mr.', '<unk>', 'is', 'chairman', 'of', '<unk>', 'n.v.', 'the', 'dutch', 'publishing', 'group', '<eos>', 'rudolph', '<unk>', 'N', 'years', 'old', 'and', 'former', 'chairman', 'of', 'consolidated', 'gold', 'fields', 'plc', 'was', 'named', 'a', 'nonexecutive', 'director', 'of', 'this', 'british', 'industrial', 'conglomerate', '<eos>', 'a', 'form', 'of', 'asbestos', 'once', 'used', 'to', 'make', 'kent', 'cigarette', 'filters', 'has', 'caused', 'a', 'high', 'percentage', 'of', 'cancer', 'deaths', 'among', 'a', 'group', 'of']\n"
          ]
        }
      ]
    },
    {
      "cell_type": "code",
      "source": [
        "print(train_data[0:100])"
      ],
      "metadata": {
        "colab": {
          "base_uri": "https://localhost:8080/"
        },
        "id": "NPGKlpFKjDBR",
        "outputId": "cbfa42bc-6088-437c-f463-5e3d30899785"
      },
      "execution_count": 9,
      "outputs": [
        {
          "output_type": "stream",
          "name": "stdout",
          "text": [
            "[9970, 9971, 9972, 9974, 9975, 9976, 9980, 9981, 9982, 9983, 9984, 9986, 9987, 9988, 9989, 9991, 9992, 9993, 9994, 9995, 9996, 9997, 9998, 9999, 2, 9256, 1, 3, 72, 393, 33, 2133, 0, 146, 19, 6, 9207, 276, 407, 3, 2, 23, 1, 13, 141, 4, 1, 5465, 0, 3081, 1596, 96, 2, 7682, 1, 3, 72, 393, 8, 337, 141, 4, 2477, 657, 2170, 955, 24, 521, 6, 9207, 276, 4, 39, 303, 438, 3684, 2, 6, 942, 4, 3150, 496, 263, 5, 138, 6092, 4241, 6036, 30, 988, 6, 241, 760, 4, 1015, 2786, 211, 6, 96, 4]\n"
          ]
        }
      ]
    },
    {
      "cell_type": "code",
      "source": [],
      "metadata": {
        "id": "Je9IrjsWjLKV"
      },
      "execution_count": 9,
      "outputs": []
    }
  ]
}