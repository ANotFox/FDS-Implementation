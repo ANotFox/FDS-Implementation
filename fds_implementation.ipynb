{
  "nbformat": 4,
  "nbformat_minor": 0,
  "metadata": {
    "colab": {
      "provenance": [],
      "authorship_tag": "ABX9TyPtO5GT/I0693YUcoVKUYTe",
      "include_colab_link": true
    },
    "kernelspec": {
      "name": "python3",
      "display_name": "Python 3"
    },
    "language_info": {
      "name": "python"
    }
  },
  "cells": [
    {
      "cell_type": "markdown",
      "metadata": {
        "id": "view-in-github",
        "colab_type": "text"
      },
      "source": [
        "<a href=\"https://colab.research.google.com/github/SanskarGithub07/FDS-Implementation/blob/main/fds_implementation.ipynb\" target=\"_parent\"><img src=\"https://colab.research.google.com/assets/colab-badge.svg\" alt=\"Open In Colab\"/></a>"
      ]
    },
    {
      "cell_type": "markdown",
      "source": [
        "### Data Collection and Cleaning\n",
        "- Collecting data from kaggle and using the PennTreebank dataset for our implementation of the model.\n",
        "- Cleaning the data for better representation and model accuracy"
      ],
      "metadata": {
        "id": "5fnmOY2YjgSN"
      }
    },
    {
      "cell_type": "code",
      "execution_count": 1,
      "metadata": {
        "id": "ZPiP9SddYCYq"
      },
      "outputs": [],
      "source": [
        "import pandas as pd\n",
        "import numpy as np\n",
        "import collections"
      ]
    },
    {
      "cell_type": "code",
      "source": [
        "def read_words(filename):\n",
        "    with open(filename, \"r\", encoding=\"utf-8\", errors=\"replace\") as f:\n",
        "        return f.read().replace(\"\\n\", \"<eos>\").split()"
      ],
      "metadata": {
        "id": "47wTJfFlIFdy"
      },
      "execution_count": 2,
      "outputs": []
    },
    {
      "cell_type": "code",
      "source": [
        "def build_vocab(filename):\n",
        "    data = read_words(filename)\n",
        "    counter = collections.Counter(data)\n",
        "    count_pairs = sorted(counter.items(), key=lambda x: (-x[1], x[0]))\n",
        "    words, _ = zip(*count_pairs)\n",
        "    word_to_id = {word: i for i, word in enumerate(words)}\n",
        "    return word_to_id"
      ],
      "metadata": {
        "id": "Qc6QBk8GIPID"
      },
      "execution_count": 3,
      "outputs": []
    },
    {
      "cell_type": "code",
      "source": [
        "def file_to_word_ids(filename, word_to_id):\n",
        "    data = read_words(filename)\n",
        "    return [word_to_id[word] for word in data if word in word_to_id]"
      ],
      "metadata": {
        "id": "0-5DXoZuIXVz"
      },
      "execution_count": 4,
      "outputs": []
    },
    {
      "cell_type": "code",
      "source": [
        "train_path = \"ptb.train.txt\"\n",
        "valid_path = \"ptb.valid.txt\"\n",
        "test_path = \"ptb.test.txt\"\n",
        "train_path, valid_path, test_path"
      ],
      "metadata": {
        "colab": {
          "base_uri": "https://localhost:8080/"
        },
        "id": "rmTRLkVfIalz",
        "outputId": "46cb2de8-6e58-44aa-c4f4-82981e5c0bb2"
      },
      "execution_count": 5,
      "outputs": [
        {
          "output_type": "execute_result",
          "data": {
            "text/plain": [
              "('ptb.train.txt', 'ptb.valid.txt', 'ptb.test.txt')"
            ]
          },
          "metadata": {},
          "execution_count": 5
        }
      ]
    },
    {
      "cell_type": "code",
      "source": [
        "def load_ptb_dataset():\n",
        "\n",
        "    word_to_id = build_vocab(train_path)\n",
        "\n",
        "    train_data = file_to_word_ids(train_path, word_to_id)\n",
        "    valid_data = file_to_word_ids(valid_path, word_to_id)\n",
        "    test_data = file_to_word_ids(test_path, word_to_id)\n",
        "    vocab_size = len(word_to_id)\n",
        "\n",
        "    return train_data, valid_data, test_data, vocab_size, word_to_id\n",
        "\n",
        "train_data, valid_data, test_data, vocab_size, word_to_id = load_ptb_dataset()"
      ],
      "metadata": {
        "id": "wymySs6hIhPy"
      },
      "execution_count": 6,
      "outputs": []
    },
    {
      "cell_type": "code",
      "source": [
        "print(f\"Vocabulary size: {vocab_size}\",f\"Train data size: {len(train_data)}\",\n",
        "f\"Valid data size: {len(valid_data)}\", f\"Test data size: {len(test_data)}\")\n",
        "print(f\"\\n\\nSample word to id mapping: {list(word_to_id.items())[:5]}\")"
      ],
      "metadata": {
        "colab": {
          "base_uri": "https://localhost:8080/"
        },
        "id": "mk4ilctqIlaq",
        "outputId": "5018fb04-2d01-488c-afd5-2bd7d35f01c4"
      },
      "execution_count": 7,
      "outputs": [
        {
          "output_type": "stream",
          "name": "stdout",
          "text": [
            "Vocabulary size: 10000 Train data size: 929589 Valid data size: 73760 Test data size: 82430\n",
            "\n",
            "\n",
            "Sample word to id mapping: [('the', 0), ('<unk>', 1), ('<eos>', 2), ('N', 3), ('of', 4)]\n"
          ]
        }
      ]
    },
    {
      "cell_type": "code",
      "source": [
        "def id_to_word(id_list, word_to_id=word_to_id):\n",
        "    id_to_word_dict = {v: k for k, v in word_to_id.items()}\n",
        "    return [id_to_word_dict[id_] for id_ in id_list]\n",
        "\n",
        "print(id_to_word(train_data[0:100]))"
      ],
      "metadata": {
        "colab": {
          "base_uri": "https://localhost:8080/"
        },
        "id": "cCAHHR_yIpiY",
        "outputId": "1ace971a-ed47-49fd-af75-d0b7a9cf9f91"
      },
      "execution_count": 8,
      "outputs": [
        {
          "output_type": "stream",
          "name": "stdout",
          "text": [
            "['aer', 'banknote', 'berlitz', 'calloway', 'centrust', 'cluett', 'fromstein', 'gitano', 'guterman', 'hydro-quebec', 'ipo', 'kia', 'memotec', 'mlx', 'nahb', 'punts', 'rake', 'regatta', 'rubens', 'sim', 'snack-food', 'ssangyong', 'swapo', 'wachter', '<eos>', 'pierre', '<unk>', 'N', 'years', 'old', 'will', 'join', 'the', 'board', 'as', 'a', 'nonexecutive', 'director', 'nov.', 'N', '<eos>', 'mr.', '<unk>', 'is', 'chairman', 'of', '<unk>', 'n.v.', 'the', 'dutch', 'publishing', 'group', '<eos>', 'rudolph', '<unk>', 'N', 'years', 'old', 'and', 'former', 'chairman', 'of', 'consolidated', 'gold', 'fields', 'plc', 'was', 'named', 'a', 'nonexecutive', 'director', 'of', 'this', 'british', 'industrial', 'conglomerate', '<eos>', 'a', 'form', 'of', 'asbestos', 'once', 'used', 'to', 'make', 'kent', 'cigarette', 'filters', 'has', 'caused', 'a', 'high', 'percentage', 'of', 'cancer', 'deaths', 'among', 'a', 'group', 'of']\n"
          ]
        }
      ]
    },
    {
      "cell_type": "code",
      "source": [
        "print(train_data[0:100])"
      ],
      "metadata": {
        "colab": {
          "base_uri": "https://localhost:8080/"
        },
        "id": "umAyAiOqIq6i",
        "outputId": "49bcbeba-436e-4803-8d28-1ff60fd7d81c"
      },
      "execution_count": 9,
      "outputs": [
        {
          "output_type": "stream",
          "name": "stdout",
          "text": [
            "[9970, 9971, 9972, 9974, 9975, 9976, 9980, 9981, 9982, 9983, 9984, 9986, 9987, 9988, 9989, 9991, 9992, 9993, 9994, 9995, 9996, 9997, 9998, 9999, 2, 9256, 1, 3, 72, 393, 33, 2133, 0, 146, 19, 6, 9207, 276, 407, 3, 2, 23, 1, 13, 141, 4, 1, 5465, 0, 3081, 1596, 96, 2, 7682, 1, 3, 72, 393, 8, 337, 141, 4, 2477, 657, 2170, 955, 24, 521, 6, 9207, 276, 4, 39, 303, 438, 3684, 2, 6, 942, 4, 3150, 496, 263, 5, 138, 6092, 4241, 6036, 30, 988, 6, 241, 760, 4, 1015, 2786, 211, 6, 96, 4]\n"
          ]
        }
      ]
    },
    {
      "cell_type": "code",
      "source": [
        "import numpy as np\n",
        "from sklearn.preprocessing import normalize\n",
        "from sklearn.cluster import KMeans\n",
        "from collections import defaultdict\n",
        "\n",
        "class SVD2Tagger:\n",
        "    def __init__(self, w1=1000, r1=100, k1=500, r2=300, k2=45):\n",
        "        \"\"\"\n",
        "        Initialize SVD2 tagger with parameters\n",
        "        w1: number of most frequent words for context\n",
        "        r1: rank for first SVD\n",
        "        k1: number of clusters for first clustering\n",
        "        r2: rank for second SVD\n",
        "        k2: final number of POS tags\n",
        "        \"\"\"\n",
        "        self.w1 = w1\n",
        "        self.r1 = r1\n",
        "        self.k1 = k1\n",
        "        self.r2 = r2\n",
        "        self.k2 = k2\n",
        "\n",
        "    def build_context_matrices(self, tokens, vocab_size, word_to_id):\n",
        "        \"\"\"Build left and right context matrices\"\"\"\n",
        "        # Get most frequent word indices\n",
        "        word_counts = np.bincount(tokens)\n",
        "        top_words = np.argsort(word_counts)[-self.w1:]\n",
        "\n",
        "        # Initialize context matrices\n",
        "        L = np.zeros((vocab_size, self.w1))\n",
        "        R = np.zeros((vocab_size, self.w1))\n",
        "\n",
        "        # Fill context matrices\n",
        "        for i in range(len(tokens)-1):\n",
        "            curr_word = tokens[i]\n",
        "            # Right context\n",
        "            next_word = tokens[i+1]\n",
        "            if next_word in top_words:\n",
        "                R[curr_word, np.where(top_words == next_word)[0][0]] += 1\n",
        "\n",
        "            # Left context\n",
        "            if i > 0:\n",
        "                prev_word = tokens[i-1]\n",
        "                if prev_word in top_words:\n",
        "                    L[curr_word, np.where(top_words == prev_word)[0][0]] += 1\n",
        "\n",
        "        return L, R\n",
        "\n",
        "    def svd_transform(self, matrix, rank):\n",
        "        \"\"\"Perform reduced rank SVD and return transformed matrix\"\"\"\n",
        "        U, S, Vt = np.linalg.svd(matrix, full_matrices=False)\n",
        "        # Keep only top rank singular values\n",
        "        S = np.diag(S[:rank])\n",
        "        U = U[:, :rank]\n",
        "        return normalize(U @ S)\n",
        "\n",
        "    def cluster_descriptors(self, descriptors, n_clusters, word_counts):\n",
        "        \"\"\"Perform weighted k-means clustering\"\"\"\n",
        "        # Initialize centroids with most frequent words\n",
        "        top_indices = np.argsort(word_counts)[-n_clusters:]\n",
        "        init_centroids = descriptors[top_indices]\n",
        "\n",
        "        kmeans = KMeans(n_clusters=n_clusters, init=init_centroids, n_init=1)\n",
        "        return kmeans.fit_predict(descriptors)\n",
        "\n",
        "    def fit(self, tokens, vocab_size, word_to_id):\n",
        "        \"\"\"Perform full SVD2 training process\"\"\"\n",
        "        # First pass\n",
        "        print(\"Building initial context matrices...\")\n",
        "        L1, R1 = self.build_context_matrices(tokens, vocab_size, word_to_id)\n",
        "\n",
        "        print(\"Performing first SVD transformation...\")\n",
        "        L1_transformed = self.svd_transform(L1, self.r1)\n",
        "        R1_transformed = self.svd_transform(R1, self.r1)\n",
        "\n",
        "        # Concatenate descriptors\n",
        "        descriptors1 = np.hstack([L1_transformed, R1_transformed])\n",
        "\n",
        "        print(\"Performing first clustering...\")\n",
        "        word_counts = np.bincount(tokens)\n",
        "        first_clusters = self.cluster_descriptors(descriptors1, self.k1, word_counts)\n",
        "\n",
        "        # Second pass\n",
        "        print(\"Building refined context matrices...\")\n",
        "        L2 = np.zeros((vocab_size, self.k1))\n",
        "        R2 = np.zeros((vocab_size, self.k1))\n",
        "\n",
        "        # Fill second pass context matrices using cluster assignments\n",
        "        for i in range(len(tokens)-1):\n",
        "            curr_word = tokens[i]\n",
        "            # Right context\n",
        "            next_word = tokens[i+1]\n",
        "            R2[curr_word, first_clusters[next_word]] += 1\n",
        "\n",
        "            # Left context\n",
        "            if i > 0:\n",
        "                prev_word = tokens[i-1]\n",
        "                L2[curr_word, first_clusters[prev_word]] += 1\n",
        "\n",
        "        print(\"Performing second SVD transformation...\")\n",
        "        L2_transformed = self.svd_transform(L2, self.r2)\n",
        "        R2_transformed = self.svd_transform(R2, self.r2)\n",
        "\n",
        "        # Final clustering\n",
        "        print(\"Performing final clustering...\")\n",
        "        descriptors2 = np.hstack([L2_transformed, R2_transformed])\n",
        "        self.final_clusters = self.cluster_descriptors(descriptors2, self.k2, word_counts)\n",
        "\n",
        "        return self.final_clusters\n",
        "\n",
        "    def get_cluster_examples(self, tokens, word_to_id, n_examples=5):\n",
        "        \"\"\"Get example words for each cluster\"\"\"\n",
        "        id_to_word = {v: k for k, v in word_to_id.items()}\n",
        "        cluster_examples = defaultdict(list)\n",
        "\n",
        "        for word_id in range(len(self.final_clusters)):\n",
        "            cluster = self.final_clusters[word_id]\n",
        "            if word_id in id_to_word:\n",
        "                word = id_to_word[word_id]\n",
        "                cluster_examples[cluster].append(word)\n",
        "\n",
        "        # Print top n examples for each cluster\n",
        "        for cluster in sorted(cluster_examples.keys()):\n",
        "            examples = cluster_examples[cluster][:n_examples]\n",
        "            print(f\"Cluster {cluster}: {', '.join(examples)}\")\n",
        "\n",
        "# Example usage\n",
        "tagger = SVD2Tagger(w1=1000, r1=100, k1=500, r2=300, k2=45)\n",
        "clusters = tagger.fit(train_data, vocab_size, word_to_id)\n",
        "print(\"\\nCluster Examples:\")\n",
        "tagger.get_cluster_examples(train_data, word_to_id)"
      ],
      "metadata": {
        "id": "7FDNTbCMI1cm",
        "colab": {
          "base_uri": "https://localhost:8080/"
        },
        "outputId": "934b9a99-09a4-4b68-8ee3-55cb6dd0c3b7"
      },
      "execution_count": 13,
      "outputs": [
        {
          "output_type": "stream",
          "name": "stdout",
          "text": [
            "Building initial context matrices...\n",
            "Performing first SVD transformation...\n",
            "Performing first clustering...\n",
            "Building refined context matrices...\n",
            "Performing second SVD transformation...\n",
            "Performing final clustering...\n",
            "\n",
            "Cluster Examples:\n",
            "Cluster 0: trading, business, companies, quarter, prices\n",
            "Cluster 1: earned, totaled, totaling, approximately, fined\n",
            "Cluster 2: compared, along, venture, familiar, met\n",
            "Cluster 3: recent, early, cash, congress, late\n",
            "Cluster 4: year, share, major, very, few\n",
            "Cluster 5: international, boston, pacific, communications, brothers\n",
            "Cluster 6: co., securities, trade, insurance, management\n",
            "Cluster 7: company, market, group, government, time\n",
            "Cluster 8: or, shares, common, yen, canadian\n",
            "Cluster 9: new, u.s., stock, first, two\n",
            "Cluster 10: expected, back, according, plans, going\n",
            "Cluster 11: n't, will, would, also, could\n",
            "Cluster 12: not, no, just, being, less\n",
            "Cluster 13: investment, own, analyst, annual, life\n",
            "Cluster 14: fulton, u.s.a, wedd, aer, banknote\n",
            "Cluster 15: mr., he, they, this, some\n",
            "Cluster 16: bush, noriega, smith, gorbachev, dinkins\n",
            "Cluster 17: its, those, capital, general, our\n",
            "Cluster 18: are, have, were, do, did\n",
            "Cluster 19: work, pay, close, help, put\n",
            "Cluster 20: been, made, sold, used, already\n",
            "Cluster 21: the, a, 's, an, his\n",
            "Cluster 22: said, says, had, took, told\n",
            "Cluster 23: million, billion, years, cents, stake\n",
            "Cluster 24: make, buy, sell, get, take\n",
            "Cluster 25: reported, announced, received, getting, posted\n",
            "Cluster 26: at, a.g.\n",
            "Cluster 27: be, become, include, allow, receive\n",
            "Cluster 28: given, hit, cited, attributed, reflects\n",
            "Cluster 29: say, added, found, believe, reports\n",
            "Cluster 30: it, yesterday, japan, friday, today\n",
            "Cluster 31: is, was, has, does, recently\n",
            "Cluster 32: $, about, than, only, rose\n",
            "Cluster 33: <eos>, of, and, that, for\n",
            "Cluster 34: all, how, buying, whether, selling\n",
            "Cluster 35: &, york, exchange, net, executive\n",
            "Cluster 36: <unk>, which, who, corp., inc.\n",
            "Cluster 37: in, as, but, if, when\n",
            "Cluster 38: more, their, such, any, three\n",
            "Cluster 39: exactly, forward, overtime, knowing, readily\n",
            "Cluster 40: one, president, because, sales, out\n",
            "Cluster 41: N, to, up, down, months\n",
            "Cluster 42: bid, demand, orders, spending, account\n",
            "Cluster 43: interest, profit, higher, court, lower\n",
            "Cluster 44: other, chief, development, others, loan\n"
          ]
        }
      ]
    },
    {
      "cell_type": "code",
      "source": [],
      "metadata": {
        "id": "4r4_Ju2tkj1q"
      },
      "execution_count": null,
      "outputs": []
    }
  ]
}